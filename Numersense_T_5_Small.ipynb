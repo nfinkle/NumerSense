{
  "nbformat": 4,
  "nbformat_minor": 0,
  "metadata": {
    "colab": {
      "provenance": [],
      "authorship_tag": "ABX9TyMlLwt3h+sxAHStFL4WCp/0",
      "include_colab_link": true
    },
    "kernelspec": {
      "name": "python3",
      "display_name": "Python 3"
    },
    "language_info": {
      "name": "python"
    },
    "accelerator": "GPU",
    "gpuClass": "standard"
  },
  "cells": [
    {
      "cell_type": "markdown",
      "metadata": {
        "id": "view-in-github",
        "colab_type": "text"
      },
      "source": [
        "<a href=\"https://colab.research.google.com/github/nfinkle/NumerSense/blob/main/Numersense_T_5_Small.ipynb\" target=\"_parent\"><img src=\"https://colab.research.google.com/assets/colab-badge.svg\" alt=\"Open In Colab\"/></a>"
      ]
    },
    {
      "cell_type": "code",
      "execution_count": 1,
      "metadata": {
        "colab": {
          "base_uri": "https://localhost:8080/"
        },
        "id": "PSiL3-dWMh-S",
        "outputId": "3cccd905-3ec4-442c-b27d-7fddd15a6611"
      },
      "outputs": [
        {
          "output_type": "stream",
          "name": "stdout",
          "text": [
            "Cloning into 'NumerSense'...\n",
            "remote: Enumerating objects: 199, done.\u001b[K\n",
            "remote: Counting objects: 100% (74/74), done.\u001b[K\n",
            "remote: Compressing objects: 100% (52/52), done.\u001b[K\n",
            "remote: Total 199 (delta 44), reused 30 (delta 22), pack-reused 125\u001b[K\n",
            "Receiving objects: 100% (199/199), 7.73 MiB | 13.24 MiB/s, done.\n",
            "Resolving deltas: 100% (95/95), done.\n"
          ]
        }
      ],
      "source": [
        "!git clone https://github.com/nfinkle/NumerSense.git\n",
        "!mv NumerSense/* .\n",
        "!rm -r NumerSense"
      ]
    },
    {
      "cell_type": "markdown",
      "source": [
        "Standardize with numersense_standardize.py"
      ],
      "metadata": {
        "id": "jqcFzHYSjuQ9"
      }
    },
    {
      "cell_type": "code",
      "source": [
        "!mkdir standardize"
      ],
      "metadata": {
        "id": "w5ExjVcFtHlV"
      },
      "execution_count": 2,
      "outputs": []
    },
    {
      "cell_type": "code",
      "source": [
        "import json\n",
        "\n",
        "split2path = {\n",
        "    'train': 'data/train.masked.tsv',\n",
        "    'validation': 'data/validation.masked.tsv',\n",
        "    'test.all': 'data/test.all.masked.txt',\n",
        "    'test.core': 'data/test.core.masked.txt',\n",
        "}\n",
        "\n",
        "for split, path in split2path.items():\n",
        "    with open(path) as f:\n",
        "        ds = []\n",
        "        for line in f:\n",
        "            if split in ['train', 'validation']:\n",
        "                [query, answer] = line.strip('\\n').split('\\t')\n",
        "                ds.append({'query': query, 'answer': answer})\n",
        "            else:\n",
        "                query = line.strip('\\n').strip(' ')\n",
        "                ds.append({'query': query})\n",
        "    with open('standardize/%s.json' % split, 'w') as f:\n",
        "        json.dump(ds, f, indent=4)"
      ],
      "metadata": {
        "id": "RLTS6PoSjw8L"
      },
      "execution_count": 3,
      "outputs": []
    },
    {
      "cell_type": "code",
      "source": [
        "%pip install transformers\n",
        "%pip install sentencepiece"
      ],
      "metadata": {
        "colab": {
          "base_uri": "https://localhost:8080/"
        },
        "id": "qlO1eyFTqpj6",
        "outputId": "b160f12d-1fd5-45f7-c083-9f2a8f5b4236"
      },
      "execution_count": 4,
      "outputs": [
        {
          "output_type": "stream",
          "name": "stdout",
          "text": [
            "Looking in indexes: https://pypi.org/simple, https://us-python.pkg.dev/colab-wheels/public/simple/\n",
            "Collecting transformers\n",
            "  Downloading transformers-4.28.1-py3-none-any.whl (7.0 MB)\n",
            "\u001b[2K     \u001b[90m━━━━━━━━━━━━━━━━━━━━━━━━━━━━━━━━━━━━━━━━\u001b[0m \u001b[32m7.0/7.0 MB\u001b[0m \u001b[31m41.7 MB/s\u001b[0m eta \u001b[36m0:00:00\u001b[0m\n",
            "\u001b[?25hRequirement already satisfied: regex!=2019.12.17 in /usr/local/lib/python3.10/dist-packages (from transformers) (2022.10.31)\n",
            "Collecting tokenizers!=0.11.3,<0.14,>=0.11.1\n",
            "  Downloading tokenizers-0.13.3-cp310-cp310-manylinux_2_17_x86_64.manylinux2014_x86_64.whl (7.8 MB)\n",
            "\u001b[2K     \u001b[90m━━━━━━━━━━━━━━━━━━━━━━━━━━━━━━━━━━━━━━━━\u001b[0m \u001b[32m7.8/7.8 MB\u001b[0m \u001b[31m61.5 MB/s\u001b[0m eta \u001b[36m0:00:00\u001b[0m\n",
            "\u001b[?25hCollecting huggingface-hub<1.0,>=0.11.0\n",
            "  Downloading huggingface_hub-0.14.1-py3-none-any.whl (224 kB)\n",
            "\u001b[2K     \u001b[90m━━━━━━━━━━━━━━━━━━━━━━━━━━━━━━━━━━━━━━\u001b[0m \u001b[32m224.5/224.5 kB\u001b[0m \u001b[31m14.4 MB/s\u001b[0m eta \u001b[36m0:00:00\u001b[0m\n",
            "\u001b[?25hRequirement already satisfied: requests in /usr/local/lib/python3.10/dist-packages (from transformers) (2.27.1)\n",
            "Requirement already satisfied: tqdm>=4.27 in /usr/local/lib/python3.10/dist-packages (from transformers) (4.65.0)\n",
            "Requirement already satisfied: packaging>=20.0 in /usr/local/lib/python3.10/dist-packages (from transformers) (23.1)\n",
            "Requirement already satisfied: filelock in /usr/local/lib/python3.10/dist-packages (from transformers) (3.12.0)\n",
            "Requirement already satisfied: numpy>=1.17 in /usr/local/lib/python3.10/dist-packages (from transformers) (1.22.4)\n",
            "Requirement already satisfied: pyyaml>=5.1 in /usr/local/lib/python3.10/dist-packages (from transformers) (6.0)\n",
            "Requirement already satisfied: fsspec in /usr/local/lib/python3.10/dist-packages (from huggingface-hub<1.0,>=0.11.0->transformers) (2023.4.0)\n",
            "Requirement already satisfied: typing-extensions>=3.7.4.3 in /usr/local/lib/python3.10/dist-packages (from huggingface-hub<1.0,>=0.11.0->transformers) (4.5.0)\n",
            "Requirement already satisfied: charset-normalizer~=2.0.0 in /usr/local/lib/python3.10/dist-packages (from requests->transformers) (2.0.12)\n",
            "Requirement already satisfied: idna<4,>=2.5 in /usr/local/lib/python3.10/dist-packages (from requests->transformers) (3.4)\n",
            "Requirement already satisfied: urllib3<1.27,>=1.21.1 in /usr/local/lib/python3.10/dist-packages (from requests->transformers) (1.26.15)\n",
            "Requirement already satisfied: certifi>=2017.4.17 in /usr/local/lib/python3.10/dist-packages (from requests->transformers) (2022.12.7)\n",
            "Installing collected packages: tokenizers, huggingface-hub, transformers\n",
            "Successfully installed huggingface-hub-0.14.1 tokenizers-0.13.3 transformers-4.28.1\n",
            "Looking in indexes: https://pypi.org/simple, https://us-python.pkg.dev/colab-wheels/public/simple/\n",
            "Collecting sentencepiece\n",
            "  Downloading sentencepiece-0.1.98-cp310-cp310-manylinux_2_17_x86_64.manylinux2014_x86_64.whl (1.3 MB)\n",
            "\u001b[2K     \u001b[90m━━━━━━━━━━━━━━━━━━━━━━━━━━━━━━━━━━━━━━━━\u001b[0m \u001b[32m1.3/1.3 MB\u001b[0m \u001b[31m16.5 MB/s\u001b[0m eta \u001b[36m0:00:00\u001b[0m\n",
            "\u001b[?25hInstalling collected packages: sentencepiece\n",
            "Successfully installed sentencepiece-0.1.98\n"
          ]
        }
      ]
    },
    {
      "cell_type": "markdown",
      "source": [
        "Run T-5 Small with code from infer_numersense_t5.py"
      ],
      "metadata": {
        "id": "d0QQdWmkkMdV"
      }
    },
    {
      "cell_type": "code",
      "source": [
        "%cd GKP\n",
        "%mkdir results\n",
        "%cd .."
      ],
      "metadata": {
        "colab": {
          "base_uri": "https://localhost:8080/"
        },
        "id": "IhVZorGZFFYU",
        "outputId": "7ec88641-49b2-439b-beea-1635977e513e"
      },
      "execution_count": 5,
      "outputs": [
        {
          "output_type": "stream",
          "name": "stdout",
          "text": [
            "/content/GKP\n",
            "/content\n"
          ]
        }
      ]
    },
    {
      "cell_type": "code",
      "source": [
        "#CUDA_VISIBLE_DEVICES=0 \n",
        "#!python GKP/infer_numersense_t5.py \\\n",
        "#    --model-type=t5-small \\\n",
        "#    --input-path=/content/standardize/train.json"
      ],
      "metadata": {
        "id": "88lGwK3kp7_V"
      },
      "execution_count": 6,
      "outputs": []
    },
    {
      "cell_type": "code",
      "source": [
        "#CUDA_VISIBLE_DEVICES=0 \n",
        "#!python GKP/infer_numersense_t5.py \\\n",
        "#    --model-type=t5-small \\\n",
        "#    --input-path=/content/standardize/train.json \\\n",
        "#    --submit"
      ],
      "metadata": {
        "id": "HSajLZvGHZou"
      },
      "execution_count": 7,
      "outputs": []
    },
    {
      "cell_type": "code",
      "source": [
        "CUDA_VISIBLE_DEVICES=0 \n",
        "!python GKP/infer_numersense_t5.py \\\n",
        "    --model-type=t5-small \\\n",
        "    --input-path=/content/standardize/validation.json \\\n",
        "   "
      ],
      "metadata": {
        "colab": {
          "base_uri": "https://localhost:8080/"
        },
        "id": "ux6JgoggdezE",
        "outputId": "adb5ba2c-3227-4fb9-e3fd-dad37d7e9651"
      },
      "execution_count": 18,
      "outputs": [
        {
          "output_type": "stream",
          "name": "stdout",
          "text": [
            "Traceback (most recent call last):\n",
            "  File \"/content/GKP/infer_numersense_t5.py\", line 149, in <module>\n",
            "    main()\n",
            "  File \"/content/GKP/infer_numersense_t5.py\", line 79, in main\n",
            "    model = transformers.T5ForConditionalGeneration.from_pretrained(args.model_type)\n",
            "  File \"/usr/local/lib/python3.10/dist-packages/transformers/modeling_utils.py\", line 2560, in from_pretrained\n",
            "    state_dict = load_state_dict(resolved_archive_file)\n",
            "  File \"/usr/local/lib/python3.10/dist-packages/transformers/modeling_utils.py\", line 442, in load_state_dict\n",
            "    return torch.load(checkpoint_file, map_location=\"cpu\")\n",
            "  File \"/usr/local/lib/python3.10/dist-packages/torch/serialization.py\", line 815, in load\n",
            "    return _legacy_load(opened_file, map_location, pickle_module, **pickle_load_args)\n",
            "  File \"/usr/local/lib/python3.10/dist-packages/torch/serialization.py\", line 1051, in _legacy_load\n",
            "    typed_storage._untyped_storage._set_from_file(\n",
            "KeyboardInterrupt\n",
            "^C\n"
          ]
        }
      ]
    },
    {
      "cell_type": "code",
      "source": [
        "#CUDA_VISIBLE_DEVICES=0 \n",
        "#!python GKP/infer_numersense_t5.py \\\n",
        "#    --model-type=t5-small \\\n",
        "#    --input-path=/content/standardize/test.all.json \\\n",
        "   "
      ],
      "metadata": {
        "id": "aEp6hkbGk4Aw"
      },
      "execution_count": 9,
      "outputs": []
    },
    {
      "cell_type": "markdown",
      "source": [
        "\n",
        "Calculate Accuracy\n",
        "\n",
        "\n"
      ],
      "metadata": {
        "id": "lRt4upMBk3hW"
      }
    },
    {
      "cell_type": "code",
      "source": [
        "sum = 0\n",
        "with open('/content/GKP/results/inference_t5-small.validation.json', 'r') as output:\n",
        "    out_file = json.load(output)\n",
        "    for ex in out_file:\n",
        "      for key, value in ex.items():\n",
        "          if key == \"ok\":\n",
        "            sum += value\n",
        "\n",
        "print(sum/200)\n",
        "\n",
        "          \n",
        "\n"
      ],
      "metadata": {
        "colab": {
          "base_uri": "https://localhost:8080/"
        },
        "id": "UHXDNCA1fEsq",
        "outputId": "1b9681f8-3356-42a5-ad90-f0af90cf232f"
      },
      "execution_count": 19,
      "outputs": [
        {
          "output_type": "stream",
          "name": "stdout",
          "text": [
            "0.23\n"
          ]
        }
      ]
    }
  ]
}