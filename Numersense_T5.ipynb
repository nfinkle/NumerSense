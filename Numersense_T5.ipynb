{
  "nbformat": 4,
  "nbformat_minor": 0,
  "metadata": {
    "colab": {
      "provenance": [],
      "authorship_tag": "ABX9TyMs5yeK9FW9Ggd2Su3I1SFX",
      "include_colab_link": true
    },
    "kernelspec": {
      "name": "python3",
      "display_name": "Python 3"
    },
    "language_info": {
      "name": "python"
    },
    "accelerator": "GPU",
    "gpuClass": "standard"
  },
  "cells": [
    {
      "cell_type": "markdown",
      "metadata": {
        "id": "view-in-github",
        "colab_type": "text"
      },
      "source": [
        "<a href=\"https://colab.research.google.com/github/nfinkle/NumerSense/blob/main/Numersense_T5.ipynb\" target=\"_parent\"><img src=\"https://colab.research.google.com/assets/colab-badge.svg\" alt=\"Open In Colab\"/></a>"
      ]
    },
    {
      "cell_type": "code",
      "execution_count": 1,
      "metadata": {
        "colab": {
          "base_uri": "https://localhost:8080/"
        },
        "id": "PSiL3-dWMh-S",
        "outputId": "2747a716-ba49-4156-b896-72be489813eb"
      },
      "outputs": [
        {
          "output_type": "stream",
          "name": "stdout",
          "text": [
            "Cloning into 'NumerSense'...\n",
            "remote: Enumerating objects: 224, done.\u001b[K\n",
            "remote: Counting objects: 100% (99/99), done.\u001b[K\n",
            "remote: Compressing objects: 100% (67/67), done.\u001b[K\n",
            "remote: Total 224 (delta 62), reused 43 (delta 32), pack-reused 125\u001b[K\n",
            "Receiving objects: 100% (224/224), 12.45 MiB | 16.12 MiB/s, done.\n",
            "Resolving deltas: 100% (113/113), done.\n",
            "Updating files: 100% (75/75), done.\n"
          ]
        }
      ],
      "source": [
        "!git clone https://github.com/nfinkle/NumerSense.git\n",
        "!mv NumerSense/* .\n",
        "!rm -r NumerSense"
      ]
    },
    {
      "cell_type": "markdown",
      "source": [
        "Standardize with numersense_standardize.py"
      ],
      "metadata": {
        "id": "jqcFzHYSjuQ9"
      }
    },
    {
      "cell_type": "code",
      "source": [
        "!mkdir standardize"
      ],
      "metadata": {
        "id": "w5ExjVcFtHlV"
      },
      "execution_count": 2,
      "outputs": []
    },
    {
      "cell_type": "code",
      "source": [
        "import json\n",
        "\n",
        "split2path = {\n",
        "    'train': 'data/train.masked.tsv',\n",
        "    'validation': 'data/validation.masked.tsv',\n",
        "    'test.new': 'data/test.new.answers.txt',\n",
        "    'test.all': 'data/test.all.masked.txt',\n",
        "    'test.core': 'data/test.core.masked.txt',\n",
        "}\n",
        "\n",
        "for split, path in split2path.items():\n",
        "    with open(path) as f:\n",
        "        ds = []\n",
        "        for line in f:\n",
        "            if split in ['train', 'validation', 'test.new']:\n",
        "                [query, answer] = line.strip('\\n').split('\\t')\n",
        "                ds.append({'query': query, 'answer': answer})\n",
        "            else:\n",
        "                query = line.strip('\\n').strip(' ')\n",
        "                ds.append({'query': query})\n",
        "    with open('standardize/%s.json' % split, 'w') as f:\n",
        "        json.dump(ds, f, indent=4)"
      ],
      "metadata": {
        "id": "RLTS6PoSjw8L"
      },
      "execution_count": 3,
      "outputs": []
    },
    {
      "cell_type": "code",
      "source": [
        "%pip install transformers\n",
        "%pip install sentencepiece"
      ],
      "metadata": {
        "colab": {
          "base_uri": "https://localhost:8080/"
        },
        "id": "qlO1eyFTqpj6",
        "outputId": "91fc38f6-b7e2-4447-db8a-8ce19a9324ed"
      },
      "execution_count": 4,
      "outputs": [
        {
          "output_type": "stream",
          "name": "stdout",
          "text": [
            "Looking in indexes: https://pypi.org/simple, https://us-python.pkg.dev/colab-wheels/public/simple/\n",
            "Collecting transformers\n",
            "  Downloading transformers-4.28.1-py3-none-any.whl (7.0 MB)\n",
            "\u001b[2K     \u001b[90m━━━━━━━━━━━━━━━━━━━━━━━━━━━━━━━━━━━━━━━━\u001b[0m \u001b[32m7.0/7.0 MB\u001b[0m \u001b[31m17.8 MB/s\u001b[0m eta \u001b[36m0:00:00\u001b[0m\n",
            "\u001b[?25hRequirement already satisfied: filelock in /usr/local/lib/python3.10/dist-packages (from transformers) (3.12.0)\n",
            "Collecting huggingface-hub<1.0,>=0.11.0 (from transformers)\n",
            "  Downloading huggingface_hub-0.14.1-py3-none-any.whl (224 kB)\n",
            "\u001b[2K     \u001b[90m━━━━━━━━━━━━━━━━━━━━━━━━━━━━━━━━━━━━━━\u001b[0m \u001b[32m224.5/224.5 kB\u001b[0m \u001b[31m18.7 MB/s\u001b[0m eta \u001b[36m0:00:00\u001b[0m\n",
            "\u001b[?25hRequirement already satisfied: numpy>=1.17 in /usr/local/lib/python3.10/dist-packages (from transformers) (1.22.4)\n",
            "Requirement already satisfied: packaging>=20.0 in /usr/local/lib/python3.10/dist-packages (from transformers) (23.1)\n",
            "Requirement already satisfied: pyyaml>=5.1 in /usr/local/lib/python3.10/dist-packages (from transformers) (6.0)\n",
            "Requirement already satisfied: regex!=2019.12.17 in /usr/local/lib/python3.10/dist-packages (from transformers) (2022.10.31)\n",
            "Requirement already satisfied: requests in /usr/local/lib/python3.10/dist-packages (from transformers) (2.27.1)\n",
            "Collecting tokenizers!=0.11.3,<0.14,>=0.11.1 (from transformers)\n",
            "  Downloading tokenizers-0.13.3-cp310-cp310-manylinux_2_17_x86_64.manylinux2014_x86_64.whl (7.8 MB)\n",
            "\u001b[2K     \u001b[90m━━━━━━━━━━━━━━━━━━━━━━━━━━━━━━━━━━━━━━━━\u001b[0m \u001b[32m7.8/7.8 MB\u001b[0m \u001b[31m31.6 MB/s\u001b[0m eta \u001b[36m0:00:00\u001b[0m\n",
            "\u001b[?25hRequirement already satisfied: tqdm>=4.27 in /usr/local/lib/python3.10/dist-packages (from transformers) (4.65.0)\n",
            "Requirement already satisfied: fsspec in /usr/local/lib/python3.10/dist-packages (from huggingface-hub<1.0,>=0.11.0->transformers) (2023.4.0)\n",
            "Requirement already satisfied: typing-extensions>=3.7.4.3 in /usr/local/lib/python3.10/dist-packages (from huggingface-hub<1.0,>=0.11.0->transformers) (4.5.0)\n",
            "Requirement already satisfied: urllib3<1.27,>=1.21.1 in /usr/local/lib/python3.10/dist-packages (from requests->transformers) (1.26.15)\n",
            "Requirement already satisfied: certifi>=2017.4.17 in /usr/local/lib/python3.10/dist-packages (from requests->transformers) (2022.12.7)\n",
            "Requirement already satisfied: charset-normalizer~=2.0.0 in /usr/local/lib/python3.10/dist-packages (from requests->transformers) (2.0.12)\n",
            "Requirement already satisfied: idna<4,>=2.5 in /usr/local/lib/python3.10/dist-packages (from requests->transformers) (3.4)\n",
            "Installing collected packages: tokenizers, huggingface-hub, transformers\n",
            "Successfully installed huggingface-hub-0.14.1 tokenizers-0.13.3 transformers-4.28.1\n",
            "Looking in indexes: https://pypi.org/simple, https://us-python.pkg.dev/colab-wheels/public/simple/\n",
            "Collecting sentencepiece\n",
            "  Downloading sentencepiece-0.1.98-cp310-cp310-manylinux_2_17_x86_64.manylinux2014_x86_64.whl (1.3 MB)\n",
            "\u001b[2K     \u001b[90m━━━━━━━━━━━━━━━━━━━━━━━━━━━━━━━━━━━━━━━━\u001b[0m \u001b[32m1.3/1.3 MB\u001b[0m \u001b[31m19.0 MB/s\u001b[0m eta \u001b[36m0:00:00\u001b[0m\n",
            "\u001b[?25hInstalling collected packages: sentencepiece\n",
            "Successfully installed sentencepiece-0.1.98\n"
          ]
        }
      ]
    },
    {
      "cell_type": "markdown",
      "source": [
        "Run T-5 Small with code from infer_numersense_t5.py"
      ],
      "metadata": {
        "id": "d0QQdWmkkMdV"
      }
    },
    {
      "cell_type": "code",
      "source": [
        "%cd GKP\n",
        "%mkdir results\n",
        "%cd .."
      ],
      "metadata": {
        "colab": {
          "base_uri": "https://localhost:8080/"
        },
        "id": "IhVZorGZFFYU",
        "outputId": "9b86ad5b-c00d-4f4d-91a9-531d9dbb1946"
      },
      "execution_count": 5,
      "outputs": [
        {
          "output_type": "stream",
          "name": "stdout",
          "text": [
            "/content/GKP\n",
            "/content\n"
          ]
        }
      ]
    },
    {
      "cell_type": "code",
      "source": [
        "CUDA_VISIBLE_DEVICES=0 \n",
        "!python GKP/infer_numersense_t5.py \\\n",
        "    --model-type=t5-small \\\n",
        "    --input-path=/content/standardize/validation.json \\\n",
        "    \n",
        "   "
      ],
      "metadata": {
        "colab": {
          "base_uri": "https://localhost:8080/"
        },
        "id": "ux6JgoggdezE",
        "outputId": "f31a5dc8-002e-4d1d-91b7-32e680b1647b"
      },
      "execution_count": 6,
      "outputs": [
        {
          "output_type": "stream",
          "name": "stdout",
          "text": [
            "Downloading (…)ve/main/spiece.model: 100% 792k/792k [00:00<00:00, 8.30MB/s]\n",
            "Downloading (…)okenizer_config.json: 100% 2.32k/2.32k [00:00<00:00, 12.2MB/s]\n",
            "Downloading (…)lve/main/config.json: 100% 1.21k/1.21k [00:00<00:00, 5.70MB/s]\n",
            "Downloading pytorch_model.bin: 100% 242M/242M [00:01<00:00, 122MB/s]\n",
            "Downloading (…)neration_config.json: 100% 147/147 [00:00<00:00, 672kB/s]\n",
            "100% 200/200 [00:11<00:00, 17.35it/s, acc=0.23]\n"
          ]
        }
      ]
    },
    {
      "cell_type": "code",
      "source": [
        "CUDA_VISIBLE_DEVICES=0 \n",
        "!python GKP/infer_numersense_t5.py \\\n",
        "    --model-type=t5-small \\\n",
        "    --input-path=/content/standardize/test.new.json \\\n",
        "   "
      ],
      "metadata": {
        "id": "aEp6hkbGk4Aw",
        "colab": {
          "base_uri": "https://localhost:8080/"
        },
        "outputId": "3f95ea42-01c8-451b-9d91-396ddad573c4"
      },
      "execution_count": 7,
      "outputs": [
        {
          "output_type": "stream",
          "name": "stdout",
          "text": [
            "100% 1000/1000 [00:44<00:00, 22.66it/s, acc=0.299]\n"
          ]
        }
      ]
    },
    {
      "cell_type": "code",
      "source": [
        "CUDA_VISIBLE_DEVICES=0 \n",
        "!python GKP/infer_numersense_t5.py \\\n",
        "    --model-type=t5-base \\\n",
        "    --input-path=/content/standardize/validation.json \\\n",
        "   "
      ],
      "metadata": {
        "colab": {
          "base_uri": "https://localhost:8080/"
        },
        "outputId": "dccdc180-edad-4fe0-f269-56abbd332457",
        "id": "Jxp4A09PFliL"
      },
      "execution_count": 8,
      "outputs": [
        {
          "output_type": "stream",
          "name": "stdout",
          "text": [
            "Downloading (…)ve/main/spiece.model: 100% 792k/792k [00:00<00:00, 16.0MB/s]\n",
            "Downloading (…)lve/main/config.json: 100% 1.21k/1.21k [00:00<00:00, 6.83MB/s]\n",
            "/usr/local/lib/python3.10/dist-packages/transformers/models/t5/tokenization_t5.py:163: FutureWarning: This tokenizer was incorrectly instantiated with a model max length of 512 which will be corrected in Transformers v5.\n",
            "For now, this behavior is kept to avoid breaking backwards compatibility when padding/encoding with `truncation is True`.\n",
            "- Be aware that you SHOULD NOT rely on t5-base automatically truncating your input to 512 when padding/encoding.\n",
            "- If you want to encode/pad to sequences longer than 512 you can either instantiate this tokenizer with `model_max_length` or pass `max_length` when encoding/padding.\n",
            "- To avoid this warning, please instantiate this tokenizer with `model_max_length` set to your preferred value.\n",
            "  warnings.warn(\n",
            "Downloading pytorch_model.bin: 100% 892M/892M [00:04<00:00, 182MB/s]\n",
            "Downloading (…)neration_config.json: 100% 147/147 [00:00<00:00, 1.02MB/s]\n",
            "100% 200/200 [00:12<00:00, 15.56it/s, acc=0.33]\n"
          ]
        }
      ]
    },
    {
      "cell_type": "code",
      "source": [
        "CUDA_VISIBLE_DEVICES=0 \n",
        "!python GKP/infer_numersense_t5.py \\\n",
        "    --model-type=t5-base \\\n",
        "    --input-path=/content/standardize/test.new.json \\\n",
        "   "
      ],
      "metadata": {
        "colab": {
          "base_uri": "https://localhost:8080/"
        },
        "outputId": "c21d5fda-e534-4cd1-a6a4-82762573b592",
        "id": "IxntfOrbFlzo"
      },
      "execution_count": 9,
      "outputs": [
        {
          "output_type": "stream",
          "name": "stdout",
          "text": [
            "/usr/local/lib/python3.10/dist-packages/transformers/models/t5/tokenization_t5.py:163: FutureWarning: This tokenizer was incorrectly instantiated with a model max length of 512 which will be corrected in Transformers v5.\n",
            "For now, this behavior is kept to avoid breaking backwards compatibility when padding/encoding with `truncation is True`.\n",
            "- Be aware that you SHOULD NOT rely on t5-base automatically truncating your input to 512 when padding/encoding.\n",
            "- If you want to encode/pad to sequences longer than 512 you can either instantiate this tokenizer with `model_max_length` or pass `max_length` when encoding/padding.\n",
            "- To avoid this warning, please instantiate this tokenizer with `model_max_length` set to your preferred value.\n",
            "  warnings.warn(\n",
            "100% 1000/1000 [01:05<00:00, 15.27it/s, acc=0.432]\n"
          ]
        }
      ]
    },
    {
      "cell_type": "code",
      "source": [
        "CUDA_VISIBLE_DEVICES=0 \n",
        "!python GKP/infer_numersense_t5.py \\\n",
        "    --model-type=t5-large \\\n",
        "    --input-path=/content/standardize/validation.json \\\n",
        "   "
      ],
      "metadata": {
        "colab": {
          "base_uri": "https://localhost:8080/"
        },
        "outputId": "99a21b2c-ebd8-4425-cee2-7a6bd5fc0958",
        "id": "ln3PNMFNFl_5"
      },
      "execution_count": 10,
      "outputs": [
        {
          "output_type": "stream",
          "name": "stdout",
          "text": [
            "Downloading (…)ve/main/spiece.model: 100% 792k/792k [00:00<00:00, 15.7MB/s]\n",
            "Downloading (…)lve/main/config.json: 100% 1.21k/1.21k [00:00<00:00, 7.12MB/s]\n",
            "/usr/local/lib/python3.10/dist-packages/transformers/models/t5/tokenization_t5.py:163: FutureWarning: This tokenizer was incorrectly instantiated with a model max length of 512 which will be corrected in Transformers v5.\n",
            "For now, this behavior is kept to avoid breaking backwards compatibility when padding/encoding with `truncation is True`.\n",
            "- Be aware that you SHOULD NOT rely on t5-large automatically truncating your input to 512 when padding/encoding.\n",
            "- If you want to encode/pad to sequences longer than 512 you can either instantiate this tokenizer with `model_max_length` or pass `max_length` when encoding/padding.\n",
            "- To avoid this warning, please instantiate this tokenizer with `model_max_length` set to your preferred value.\n",
            "  warnings.warn(\n",
            "Downloading pytorch_model.bin: 100% 2.95G/2.95G [00:15<00:00, 195MB/s]\n",
            "Downloading (…)neration_config.json: 100% 147/147 [00:00<00:00, 818kB/s]\n",
            "100% 200/200 [00:22<00:00,  8.71it/s, acc=0.435]\n"
          ]
        }
      ]
    },
    {
      "cell_type": "code",
      "source": [
        "CUDA_VISIBLE_DEVICES=0 \n",
        "!python GKP/infer_numersense_t5.py \\\n",
        "    --model-type=t5-large \\\n",
        "    --input-path=/content/standardize/test.new.json \\\n",
        "   "
      ],
      "metadata": {
        "colab": {
          "base_uri": "https://localhost:8080/"
        },
        "outputId": "e6ea0f05-ef0a-4a39-bca3-ef9c837b4702",
        "id": "ExhAlVUKFmIV"
      },
      "execution_count": 11,
      "outputs": [
        {
          "output_type": "stream",
          "name": "stdout",
          "text": [
            "/usr/local/lib/python3.10/dist-packages/transformers/models/t5/tokenization_t5.py:163: FutureWarning: This tokenizer was incorrectly instantiated with a model max length of 512 which will be corrected in Transformers v5.\n",
            "For now, this behavior is kept to avoid breaking backwards compatibility when padding/encoding with `truncation is True`.\n",
            "- Be aware that you SHOULD NOT rely on t5-large automatically truncating your input to 512 when padding/encoding.\n",
            "- If you want to encode/pad to sequences longer than 512 you can either instantiate this tokenizer with `model_max_length` or pass `max_length` when encoding/padding.\n",
            "- To avoid this warning, please instantiate this tokenizer with `model_max_length` set to your preferred value.\n",
            "  warnings.warn(\n",
            "100% 1000/1000 [01:57<00:00,  8.53it/s, acc=0.48]\n"
          ]
        }
      ]
    },
    {
      "cell_type": "markdown",
      "source": [
        "\n",
        "Calculate Accuracy\n",
        "\n",
        "\n"
      ],
      "metadata": {
        "id": "lRt4upMBk3hW"
      }
    },
    {
      "cell_type": "code",
      "source": [
        "def calculate_hit_rate(path):\n",
        "\n",
        "  hit1_sum = 0\n",
        "  hit2_sum = 0\n",
        "  hit3_sum = 0\n",
        "  with open(path, 'r') as output:\n",
        "      out_file = json.load(output)\n",
        "      for ex in out_file:\n",
        "        for key, value in ex.items():\n",
        "            if key == \"answer\":\n",
        "              answer = value\n",
        "              if answer == \"zero\":\n",
        "                answer = \"no\"\n",
        "          \n",
        "            \n",
        "            if key == \"output\":\n",
        "              results = value[\"result_list\"]\n",
        "              if results[0][\"word\"] == answer:\n",
        "                hit1_sum += 1\n",
        "              if results[0][\"word\"] == answer or results[1][\"word\"] == answer:\n",
        "                hit2_sum += 1\n",
        "              if results[0][\"word\"] == answer or results[1][\"word\"] == answer or results[2][\"word\"] == answer:\n",
        "                hit3_sum +=1\n",
        "      \n",
        "  print(path)\n",
        "  print(\"hit@1: %.2f%%\" % (hit1_sum*100/len(out_file)) )\n",
        "  print(\"hit@2: %.2f%%\" % (hit2_sum*100/len(out_file)))\n",
        "  print(\"hit@3: %.2f%%\" % (hit3_sum*100/len(out_file)))\n",
        "\n",
        "          \n",
        "\n"
      ],
      "metadata": {
        "id": "UHXDNCA1fEsq"
      },
      "execution_count": 14,
      "outputs": []
    },
    {
      "cell_type": "code",
      "source": [
        "import glob\n",
        " \n",
        "directory = '/content/GKP/results'\n",
        "\n",
        "results = []\n",
        "\n",
        "for filename in glob.iglob(f'{directory}/*'):\n",
        "    results.append(filename)\n",
        "  \n",
        "results = reversed(sorted(results))\n",
        "\n",
        "\n",
        "for result in results:\n",
        "  calculate_hit_rate(result)\n",
        "  \n"
      ],
      "metadata": {
        "colab": {
          "base_uri": "https://localhost:8080/"
        },
        "id": "kykA0nZ4Gk8e",
        "outputId": "79c9da10-57be-4c66-f457-dc28caf7bd67"
      },
      "execution_count": 17,
      "outputs": [
        {
          "output_type": "stream",
          "name": "stdout",
          "text": [
            "/content/GKP/results/inference_t5-small.validation.json\n",
            "hit@1: 23.00%\n",
            "hit@2: 46.50%\n",
            "hit@3: 61.50%\n",
            "/content/GKP/results/inference_t5-small.test.new.json\n",
            "hit@1: 29.60%\n",
            "hit@2: 51.80%\n",
            "hit@3: 66.10%\n",
            "/content/GKP/results/inference_t5-large.validation.json\n",
            "hit@1: 43.50%\n",
            "hit@2: 61.00%\n",
            "hit@3: 74.50%\n",
            "/content/GKP/results/inference_t5-large.test.new.json\n",
            "hit@1: 47.30%\n",
            "hit@2: 65.70%\n",
            "hit@3: 79.40%\n",
            "/content/GKP/results/inference_t5-base.validation.json\n",
            "hit@1: 33.00%\n",
            "hit@2: 52.00%\n",
            "hit@3: 66.50%\n",
            "/content/GKP/results/inference_t5-base.test.new.json\n",
            "hit@1: 42.60%\n",
            "hit@2: 61.40%\n",
            "hit@3: 74.50%\n"
          ]
        }
      ]
    }
  ]
}